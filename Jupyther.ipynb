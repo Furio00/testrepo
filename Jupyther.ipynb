{
 "cells": [
  {
   "cell_type": "markdown",
   "id": "cd888733-8232-4e8a-b4f0-ed10c522e2e6",
   "metadata": {},
   "source": [
    "# My Jupiter notebook on IBM Watson Studio "
   ]
  },
  {
   "cell_type": "markdown",
   "id": "60312b5d-1146-420d-972f-0a212a6276cd",
   "metadata": {},
   "source": [
    "#### Furio P.\n",
    "Purchase Manager"
   ]
  },
  {
   "cell_type": "markdown",
   "id": "866125e8-7a1d-4540-8b31-73d0c2a97469",
   "metadata": {},
   "source": [
    "_I'm interested in data science because I would like to work as consultant_"
   ]
  },
  {
   "cell_type": "markdown",
   "id": "c1f3fe7a-1c2b-4010-8a30-780a6a1ab2c6",
   "metadata": {},
   "source": [
    "### This following code tests what is the maximum value in a list of numbers"
   ]
  },
  {
   "cell_type": "code",
   "execution_count": 11,
   "id": "e7848a0a-97da-49f1-a6b7-a6a29dce9ebe",
   "metadata": {},
   "outputs": [
    {
     "name": "stdout",
     "output_type": "stream",
     "text": [
      "Maximum value: 80\n"
     ]
    }
   ],
   "source": [
    "numbers = [12, 3, 70, 1, 10, 64, 80, 11]\n",
    "\n",
    "max_value = None\n",
    "\n",
    "for num in numbers:\n",
    "    if (max_value is None or num > max_value):\n",
    "        max_value = num\n",
    "\n",
    "print('Maximum value:', max_value)"
   ]
  },
  {
   "cell_type": "markdown",
   "id": "22a8e9f3-8bd2-4ef7-8f53-ca03a3ac83a3",
   "metadata": {},
   "source": [
    "- red\n",
    "- white\n",
    "- blue"
   ]
  },
  {
   "cell_type": "markdown",
   "id": "94aeb0df-7fd9-4151-9fb9-388ab5a618cc",
   "metadata": {},
   "source": [
    "1. red\n",
    "1. white\n",
    "1. blue"
   ]
  },
  {
   "cell_type": "markdown",
   "id": "ea92b827-da3d-4a75-a4d2-5d067a740359",
   "metadata": {},
   "source": [
    "*** \n",
    "red white blue"
   ]
  }
 ],
 "metadata": {
  "kernelspec": {
   "display_name": "Python",
   "language": "python",
   "name": "conda-env-python-py"
  },
  "language_info": {
   "codemirror_mode": {
    "name": "ipython",
    "version": 3
   },
   "file_extension": ".py",
   "mimetype": "text/x-python",
   "name": "python",
   "nbconvert_exporter": "python",
   "pygments_lexer": "ipython3",
   "version": "3.7.12"
  }
 },
 "nbformat": 4,
 "nbformat_minor": 5
}
